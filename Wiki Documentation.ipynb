{
 "cells": [
  {
   "cell_type": "markdown",
   "id": "0473b508-1288-419c-97fe-5dec1eb915ed",
   "metadata": {},
   "source": [
    "# Wiki\n",
    "\n",
    "Wiki possui métodos para baixar dados da Wikipedia utilizando a biblioteka `wikipedia`"
   ]
  },
  {
   "cell_type": "code",
   "execution_count": 1,
   "id": "a8ff1c44-ebfd-4a0d-af21-d82cb9a7fec5",
   "metadata": {},
   "outputs": [],
   "source": [
    "from src.Wiki import Wiki"
   ]
  },
  {
   "cell_type": "markdown",
   "id": "48a7a7f9-a14b-45e4-bd1c-85fa00a5fd47",
   "metadata": {},
   "source": [
    "# Wiki.search(query)"
   ]
  },
  {
   "cell_type": "code",
   "execution_count": 2,
   "id": "e731a570-6968-4eff-ae5c-4a2d006debdc",
   "metadata": {},
   "outputs": [],
   "source": [
    "query = \"Música\""
   ]
  },
  {
   "cell_type": "code",
   "execution_count": 3,
   "id": "f7143a27-680f-4dd6-b74b-f95bf9cf1447",
   "metadata": {},
   "outputs": [
    {
     "data": {
      "text/plain": [
       "['Música',\n",
       " 'Gênero musical',\n",
       " 'Música eletrônica',\n",
       " 'Músico',\n",
       " 'Música clássica',\n",
       " 'Música do Brasil',\n",
       " 'Música pop',\n",
       " 'Música sertaneja',\n",
       " 'Single',\n",
       " 'Music']"
      ]
     },
     "execution_count": 3,
     "metadata": {},
     "output_type": "execute_result"
    }
   ],
   "source": [
    "wiki = Wiki()\n",
    "result = wiki.search(query)\n",
    "result"
   ]
  },
  {
   "cell_type": "markdown",
   "id": "f706c0bc-69e3-49b9-8c94-6dffd10520fe",
   "metadata": {},
   "source": [
    "# Wiki.page(title)"
   ]
  },
  {
   "cell_type": "code",
   "execution_count": 10,
   "id": "44a3b1d0-4a75-418a-8f39-fb411cbf425c",
   "metadata": {},
   "outputs": [
    {
     "data": {
      "text/plain": [
       "<WikipediaPage 'Wikipédia'>"
      ]
     },
     "execution_count": 10,
     "metadata": {},
     "output_type": "execute_result"
    }
   ],
   "source": [
    "page = wiki.page(\"Wikipedia\")\n",
    "page"
   ]
  },
  {
   "cell_type": "code",
   "execution_count": 11,
   "id": "4af0a1ee-f5ee-41ab-ad60-ef75ed48d388",
   "metadata": {},
   "outputs": [
    {
     "data": {
      "text/plain": [
       "'A Wikipédia é um projeto de enciclopédia multilíngue de licença livre, baseado na web e escrito de m'"
      ]
     },
     "execution_count": 11,
     "metadata": {},
     "output_type": "execute_result"
    }
   ],
   "source": [
    "page.content[:100]"
   ]
  },
  {
   "cell_type": "markdown",
   "id": "9a04d7a5-a859-4033-afed-010ae001df1e",
   "metadata": {},
   "source": [
    "# Wiki.pages(titles)"
   ]
  },
  {
   "cell_type": "markdown",
   "id": "c1d0dab9-e149-4a03-88e9-159ed50bc9de",
   "metadata": {},
   "source": [
    "Esse método pode demorar para ser executado dependendo da quantidade de páginas baixadas."
   ]
  },
  {
   "cell_type": "code",
   "execution_count": 12,
   "id": "c1effeee-4fc1-4b23-8978-89416b8cec92",
   "metadata": {},
   "outputs": [
    {
     "data": {
      "text/plain": [
       "['Música', 'Gênero musical']"
      ]
     },
     "execution_count": 12,
     "metadata": {},
     "output_type": "execute_result"
    }
   ],
   "source": [
    "result[:2]"
   ]
  },
  {
   "cell_type": "code",
   "execution_count": 13,
   "id": "f01bc6bd-21f1-4d4a-aab2-dc672433d94a",
   "metadata": {
    "scrolled": true
   },
   "outputs": [
    {
     "data": {
      "text/plain": [
       "[<WikipediaPage 'Música'>, <WikipediaPage 'Gênero musical'>]"
      ]
     },
     "execution_count": 13,
     "metadata": {},
     "output_type": "execute_result"
    }
   ],
   "source": [
    "pages = wiki.pages(result[:2])\n",
    "pages"
   ]
  },
  {
   "cell_type": "markdown",
   "id": "4392ea97-a4f8-4a32-9e76-a1986419ca99",
   "metadata": {},
   "source": [
    "# Sandbox"
   ]
  },
  {
   "cell_type": "code",
   "execution_count": null,
   "id": "28f0ba64-bcde-4ffa-bef7-375a0c663e83",
   "metadata": {
    "scrolled": true
   },
   "outputs": [],
   "source": [
    "page = wiki.page(\"Wikipedia\")\n",
    "page.summary"
   ]
  },
  {
   "cell_type": "code",
   "execution_count": null,
   "id": "f29d2e5d-5bff-48f6-aeb6-be60588fd69b",
   "metadata": {},
   "outputs": [],
   "source": [
    "page.links"
   ]
  },
  {
   "cell_type": "code",
   "execution_count": null,
   "id": "b1ba6de1-d3c5-4b71-b676-e8088d2e6e72",
   "metadata": {},
   "outputs": [],
   "source": []
  },
  {
   "cell_type": "code",
   "execution_count": null,
   "id": "4aedde6c-f3fd-4f2d-9b96-d36173002048",
   "metadata": {},
   "outputs": [],
   "source": []
  },
  {
   "cell_type": "code",
   "execution_count": null,
   "id": "3a617969-8e94-4c32-ac15-16a47787027d",
   "metadata": {},
   "outputs": [],
   "source": []
  },
  {
   "cell_type": "code",
   "execution_count": null,
   "id": "9ee660f6-9073-45c5-b314-cf4de9dc64c6",
   "metadata": {},
   "outputs": [],
   "source": []
  },
  {
   "cell_type": "code",
   "execution_count": null,
   "id": "c1bfc81f-cad9-431b-83ce-a22444fea292",
   "metadata": {},
   "outputs": [],
   "source": []
  }
 ],
 "metadata": {
  "kernelspec": {
   "display_name": "Python 3 (ipykernel)",
   "language": "python",
   "name": "python3"
  },
  "language_info": {
   "codemirror_mode": {
    "name": "ipython",
    "version": 3
   },
   "file_extension": ".py",
   "mimetype": "text/x-python",
   "name": "python",
   "nbconvert_exporter": "python",
   "pygments_lexer": "ipython3",
   "version": "3.10.12"
  }
 },
 "nbformat": 4,
 "nbformat_minor": 5
}
