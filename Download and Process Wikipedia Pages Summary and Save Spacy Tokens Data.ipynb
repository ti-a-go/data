{
 "cells": [
  {
   "cell_type": "code",
   "execution_count": 2,
   "id": "68d2e10f-4c7d-4baf-8a52-f642ccf397d1",
   "metadata": {},
   "outputs": [],
   "source": [
    "from wiki import search_and_save_summaries"
   ]
  },
  {
   "cell_type": "code",
   "execution_count": 4,
   "id": "b332f0a6-bffe-4001-b184-f96e06520026",
   "metadata": {},
   "outputs": [
    {
     "name": "stdout",
     "output_type": "stream",
     "text": [
      "Downloading page summary - Tempo\n",
      "Downloading page summary - Tempo (música)\n",
      "Downloading page summary - Espaço-tempo\n",
      "Downloading page summary - Viagem no tempo\n",
      "Downloading page summary - About Time (filme)\n",
      "Downloading page summary - Tempo real\n",
      "Downloading page summary - Gerenciamento de tempo\n",
      "Downloading page summary - Tempo decimal\n",
      "Downloading page summary - Tempo Universal Coordenado\n",
      "Downloading page summary - Tempo imaginário\n",
      "Saving page summary - Tempo\n",
      "Saving page summary - Tempo (música)\n",
      "Saving page summary - Espaço-tempo\n",
      "Saving page summary - Viagem no tempo\n",
      "Saving page summary - About Time (filme)\n",
      "Saving page summary - Tempo real\n",
      "Saving page summary - Gerenciamento de tempo\n",
      "Saving page summary - Tempo decimal\n",
      "Saving page summary - Tempo Universal Coordenado\n",
      "Saving page summary - Tempo imaginário\n",
      "Creating DataFrame: Tempo\n",
      "Doc text: O tempo é uma grandeza física presente não apenas no...\n",
      "\n",
      "Creating DataFrame: Tempo (música)\n",
      "Doc text: Em musicologia, tempo rítmico, é a duração de...\n",
      "\n",
      "Creating DataFrame: Espaço-tempo\n",
      "Doc text: Na física, espaço-tempo é o sistema de coordenadas utilizado...\n",
      "\n",
      "Creating DataFrame: Viagem no tempo\n",
      "Doc text: A hipótese da viagem no tempo se refere ao conceito...\n",
      "\n",
      "Creating DataFrame: About Time (filme)\n",
      "Doc text: About Time (bra: Questão de Tempo; prt...\n",
      "\n",
      "Creating DataFrame: Tempo real\n",
      "Doc text: Na ciência da computação, tempo real é uma expressão...\n",
      "\n",
      "Creating DataFrame: Gerenciamento de tempo\n",
      "Doc text: Gerenciamento de tempo é o ato ou processo de planejamento...\n",
      "\n",
      "Creating DataFrame: Tempo decimal\n",
      "Doc text: O tempo decimal é a expressão das horas do dia...\n",
      "\n",
      "Creating DataFrame: Tempo Universal Coordenado\n",
      "Doc text: O Tempo Universal Coordenado (abreviado internacionalmente como UTC,...\n",
      "\n",
      "Creating DataFrame: Tempo imaginário\n",
      "Doc text: Tempo imaginário foi um artifício de cálculo proposto por Minkowski...\n",
      "\n"
     ]
    }
   ],
   "source": [
    "query = \"tempo\"\n",
    "search_and_save_summaries(query)"
   ]
  },
  {
   "cell_type": "code",
   "execution_count": null,
   "id": "ad603ef1-e814-4d0d-82c5-7d460ab7a2f9",
   "metadata": {},
   "outputs": [],
   "source": []
  }
 ],
 "metadata": {
  "kernelspec": {
   "display_name": "Python 3 (ipykernel)",
   "language": "python",
   "name": "python3"
  },
  "language_info": {
   "codemirror_mode": {
    "name": "ipython",
    "version": 3
   },
   "file_extension": ".py",
   "mimetype": "text/x-python",
   "name": "python",
   "nbconvert_exporter": "python",
   "pygments_lexer": "ipython3",
   "version": "3.10.12"
  }
 },
 "nbformat": 4,
 "nbformat_minor": 5
}
