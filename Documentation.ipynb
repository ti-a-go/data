{
 "cells": [
  {
   "cell_type": "code",
   "execution_count": 1,
   "id": "f1371722-47d0-4bed-9310-3dffe560686f",
   "metadata": {},
   "outputs": [],
   "source": [
    "from src.Wiki import Wiki\n",
    "from src.Data import Data\n",
    "\n",
    "wiki = Wiki()\n",
    "data = Data()"
   ]
  },
  {
   "cell_type": "markdown",
   "id": "d418cb4e-f6b9-455e-ae30-ac0dfe6b8eba",
   "metadata": {},
   "source": [
    "## Baixar Página da Wikipedia"
   ]
  },
  {
   "cell_type": "code",
   "execution_count": 2,
   "id": "15bef3a1-2cb0-4a46-8966-f4ba47d51316",
   "metadata": {},
   "outputs": [
    {
     "data": {
      "text/plain": [
       "'The Wikimedia Foundation, Inc. (WMF) is an American 501(c)(3) nonprofit organization headquartered i'"
      ]
     },
     "execution_count": 2,
     "metadata": {},
     "output_type": "execute_result"
    }
   ],
   "source": [
    "page = wiki.page(\"Wikipedia\")\n",
    "page.content[:100]"
   ]
  },
  {
   "cell_type": "code",
   "execution_count": 3,
   "id": "897ffb48-598f-4ede-96e0-0bcb292bf841",
   "metadata": {},
   "outputs": [],
   "source": [
    "data.save_wiki_page(page)"
   ]
  },
  {
   "cell_type": "markdown",
   "id": "3a2d754e-e251-4f86-a0bf-9dbf478c1fd7",
   "metadata": {},
   "source": [
    "## Gerar metadados sobre paginas baixadas da Wikipedia"
   ]
  },
  {
   "cell_type": "markdown",
   "id": "49742fa2-3486-4d1e-812b-61fa655283d7",
   "metadata": {},
   "source": [
    "tamanho do espaço em disco ocupado pelo arquivo\n",
    "\n",
    "quantidade de caractéres\n",
    "\n",
    "quantidade de caractéres (sem espaços em branco\n",
    "\n",
    "quantidade de linhas"
   ]
  },
  {
   "cell_type": "markdown",
   "id": "cf30a88f-b348-400c-a001-4b437f93823f",
   "metadata": {},
   "source": [
    "## Gerar arquivo JSON com o texto separado por linhas"
   ]
  },
  {
   "cell_type": "markdown",
   "id": "08f492b5-f264-4417-867c-caebfa924d08",
   "metadata": {},
   "source": [
    "## Gerar Spacy Doc"
   ]
  },
  {
   "cell_type": "markdown",
   "id": "fbbde13f-f860-4090-bbf8-663a706ffafa",
   "metadata": {},
   "source": [
    "## Gerar dados sobre classes de palavras"
   ]
  },
  {
   "cell_type": "markdown",
   "id": "9709a220-2356-43b3-b65e-c95a16d668da",
   "metadata": {},
   "source": [
    "# Crawl Wikipedia Data"
   ]
  },
  {
   "cell_type": "markdown",
   "id": "48b05cdb-cace-4b8b-85be-ff0da386c7c4",
   "metadata": {},
   "source": [
    "## Sava all links from a Wikipedia page"
   ]
  },
  {
   "cell_type": "code",
   "execution_count": 4,
   "id": "101ed174-5809-4b59-8f30-ffbbc9061515",
   "metadata": {},
   "outputs": [
    {
     "name": "stdout",
     "output_type": "stream",
     "text": [
      "Page id \"and warhol\" does not match any pages. Try another id!\n"
     ]
    },
    {
     "name": "stderr",
     "output_type": "stream",
     "text": [
      "/home/tiago/github/ti-a-go/data/venv/lib/python3.10/site-packages/wikipedia/wikipedia.py:389: GuessedAtParserWarning: No parser was explicitly specified, so I'm using the best available HTML parser for this system (\"html.parser\"). This usually isn't a problem, but if you run this code on another system, or in a different virtual environment, it may use a different parser and behave differently.\n",
      "\n",
      "The code that caused this warning is on line 389 of the file /home/tiago/github/ti-a-go/data/venv/lib/python3.10/site-packages/wikipedia/wikipedia.py. To get rid of this warning, pass the additional argument 'features=\"html.parser\"' to the BeautifulSoup constructor.\n",
      "\n",
      "  lis = BeautifulSoup(html).find_all('li')\n"
     ]
    },
    {
     "name": "stdout",
     "output_type": "stream",
     "text": [
      "\"Black art\" may refer to: \n",
      "African-American art\n",
      "Lee \"Scratch\" Perry\n",
      "Black Arts Movement\n",
      "Black Art (poem)\n",
      "Black art (theatre)\n",
      "Black Magic (disambiguation)\n",
      "Black Ops (disambiguation)\n",
      "Black Paintings\n",
      "Blackwork\n",
      "Dark arts (disambiguation)\n",
      "\"Appreciation\" may refer to: \n",
      "Capital appreciation\n",
      "Currency appreciation and depreciation\n",
      "Gratitude\n",
      "Art criticism\n",
      "Depreciation\n",
      "Page id \"a dealer\" does not match any pages. Try another id!\n",
      "Page id \"at t history\" does not match any pages. Try another id!\n",
      "Page id \"art manifest\" does not match any pages. Try another id!\n",
      "Page id \"at school\" does not match any pages. Try another id!\n",
      "Page id \"arthur dent\" does not match any pages. Try another id!\n",
      "Page id \"artist movements\" does not match any pages. Try another id!\n",
      "Page id \"art net\" does not match any pages. Try another id!\n",
      "Page id \"outism\" does not match any pages. Try another id!\n",
      "Page id \"ann rand\" does not match any pages. Try another id!\n",
      "\"base\" may refer to: \n",
      "Base (mobile telephony provider)\n",
      "Base CRM\n",
      "Base Design\n",
      "Base FX\n",
      "Budapest Aircraft Services\n",
      "BASE (search engine)\n",
      "HTML element\n",
      "Eventual consistency\n",
      "Google Base\n",
      "LibreOffice Base\n",
      "OpenOffice.org Base\n",
      "Base of computation\n",
      "Base of a logarithm\n",
      "Base (exponentiation)\n",
      "Base (geometry)\n",
      "Base (group theory)\n",
      "Base (topology)\n",
      "Backward Society Education\n",
      "BASE (social centre)\n",
      "Beaverton Academy of Science and Engineering\n",
      "Bible Archaeology Search and Exploration Institute\n",
      "British Association for Screen Entertainment\n",
      "Brooklyn Academy of Science and the Environment\n",
      "Base (chemistry)\n",
      "erythromycin base\n",
      "Bipolar junction transistor\n",
      "BASE experiment\n",
      "Base pair\n",
      "Beta-alumina solid electrolyte\n",
      "Nucleobase\n",
      "Base (politics)\n",
      "Base (social class)\n",
      "Base and superstructure (Marxism)\n",
      "Base (baseball)\n",
      "cheerleading\n",
      "BASE jumping\n",
      "darebase\n",
      "Base (character)\n",
      "Base (EP)\n",
      "Base, Maharashtra\n",
      "Rob Base\n",
      "binder (material)\n",
      "foundation (architecture)\n",
      "foundation (cosmetics)\n",
      "heraldry\n",
      "pedestal\n",
      "Cooking base\n",
      "Military base\n",
      "Base camp (disambiguation)\n",
      "Bases (disambiguation)\n",
      "Basis (disambiguation)\n",
      "Bass (disambiguation)\n",
      "Bottom (disambiguation)\n",
      "Radix (disambiguation)\n",
      "The Base (disambiguation)\n"
     ]
    }
   ],
   "source": [
    "page = wiki.page(\"Arte\")\n",
    "\n",
    "for link in page.links[:100]:\n",
    "    if not data.is_page_saved(link):\n",
    "        try:\n",
    "            data.save_wiki_page(wiki.page(link))\n",
    "        except Exception as e:\n",
    "            print(str(e))"
   ]
  },
  {
   "cell_type": "code",
   "execution_count": 5,
   "id": "f3ad35cd-809d-478e-871d-af4149707826",
   "metadata": {},
   "outputs": [
    {
     "name": "stdout",
     "output_type": "stream",
     "text": [
      "Acabou\n"
     ]
    }
   ],
   "source": [
    "print(\"Acabou\")"
   ]
  },
  {
   "cell_type": "code",
   "execution_count": null,
   "id": "43864fd1-21b5-45a3-90b6-9377be2b2ee0",
   "metadata": {},
   "outputs": [],
   "source": []
  }
 ],
 "metadata": {
  "kernelspec": {
   "display_name": "Python 3 (ipykernel)",
   "language": "python",
   "name": "python3"
  },
  "language_info": {
   "codemirror_mode": {
    "name": "ipython",
    "version": 3
   },
   "file_extension": ".py",
   "mimetype": "text/x-python",
   "name": "python",
   "nbconvert_exporter": "python",
   "pygments_lexer": "ipython3",
   "version": "3.10.12"
  }
 },
 "nbformat": 4,
 "nbformat_minor": 5
}
