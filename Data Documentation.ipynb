{
 "cells": [
  {
   "cell_type": "markdown",
   "id": "20e79f86-19ae-474a-9ef6-cf20cb8b3a30",
   "metadata": {},
   "source": [
    "# Data"
   ]
  },
  {
   "cell_type": "code",
   "execution_count": 1,
   "id": "8cb9add3-0d70-4d73-9cd3-2bc7bde3d115",
   "metadata": {},
   "outputs": [],
   "source": [
    "from main import wiki, data, nlp"
   ]
  },
  {
   "cell_type": "code",
   "execution_count": 2,
   "id": "dc9aec2b-6e65-489d-8514-392be414a384",
   "metadata": {},
   "outputs": [
    {
     "data": {
      "text/plain": [
       "'Edson Arantes do Nascimento (Brazilian Portuguese: [ˈɛtsõ aˈɾɐ̃tʃiz du nasiˈmẽtu]; 23 October 1940 –'"
      ]
     },
     "execution_count": 2,
     "metadata": {},
     "output_type": "execute_result"
    }
   ],
   "source": [
    "page = wiki.page(\"Pelé\")\n",
    "page.content[:100]"
   ]
  },
  {
   "cell_type": "markdown",
   "id": "c7c58891-0abf-47a6-8730-2d6f84b4e89a",
   "metadata": {},
   "source": [
    "# Data.save_wiki_page(page)"
   ]
  },
  {
   "cell_type": "code",
   "execution_count": 3,
   "id": "a8c7a99d-9d78-46cb-9b15-5e405dbb2e46",
   "metadata": {},
   "outputs": [],
   "source": [
    "data.save_wiki_page(page)"
   ]
  },
  {
   "cell_type": "markdown",
   "id": "8b212ec2-83aa-4811-8752-ab92be7a7b61",
   "metadata": {},
   "source": [
    "# Download all Linked page from a given Wikipedia page"
   ]
  },
  {
   "cell_type": "code",
   "execution_count": 9,
   "id": "21456525-865a-44b9-b7d1-c7e21bbc8756",
   "metadata": {},
   "outputs": [
    {
     "data": {
      "text/plain": [
       "135"
      ]
     },
     "execution_count": 9,
     "metadata": {},
     "output_type": "execute_result"
    }
   ],
   "source": [
    "len(page.links)"
   ]
  },
  {
   "cell_type": "code",
   "execution_count": 10,
   "id": "18c04d0f-0284-4f6e-9af4-84ea7f16cd4e",
   "metadata": {},
   "outputs": [
    {
     "data": {
      "text/plain": [
       "['2021 Wikimedia Foundation actions on the Chinese Wikipedia',\n",
       " '274301 Wikipedia',\n",
       " 'Academic studies about Wikipedia',\n",
       " 'AfroCrowd',\n",
       " 'Arbitration Committee (Wikipedia)',\n",
       " 'Art+Feminism',\n",
       " 'Be like Bill',\n",
       " 'Bibliography of Wikipedia',\n",
       " 'Bomis',\n",
       " 'Censorship of Wikipedia']"
      ]
     },
     "execution_count": 10,
     "metadata": {},
     "output_type": "execute_result"
    }
   ],
   "source": [
    "page.links[:10]"
   ]
  },
  {
   "cell_type": "code",
   "execution_count": 7,
   "id": "13457e2b-f429-49fe-97cf-c523b2b531c9",
   "metadata": {
    "collapsed": true,
    "jupyter": {
     "outputs_hidden": true
    },
    "scrolled": true
   },
   "outputs": [
    {
     "name": "stdout",
     "output_type": "stream",
     "text": [
      "Page id \"bvmi\" does not match any pages. Try another id!\n",
      "Page id \"deaths of wikipedia\" does not match any pages. Try another id!\n",
      "Page id \"james hillman\" does not match any pages. Try another id!\n",
      "Page id \"jimmy walkes\" does not match any pages. Try another id!\n"
     ]
    },
    {
     "name": "stderr",
     "output_type": "stream",
     "text": [
      "/home/tiago/github/ti-a-go/data/venv/lib/python3.10/site-packages/wikipedia/wikipedia.py:389: GuessedAtParserWarning: No parser was explicitly specified, so I'm using the best available HTML parser for this system (\"html.parser\"). This usually isn't a problem, but if you run this code on another system, or in a different virtual environment, it may use a different parser and behave differently.\n",
      "\n",
      "The code that caused this warning is on line 389 of the file /home/tiago/github/ti-a-go/data/venv/lib/python3.10/site-packages/wikipedia/wikipedia.py. To get rid of this warning, pass the additional argument 'features=\"html.parser\"' to the BeautifulSoup constructor.\n",
      "\n",
      "  lis = BeautifulSoup(html).find_all('li')\n"
     ]
    },
    {
     "name": "stdout",
     "output_type": "stream",
     "text": [
      "\"kiwi\" may refer to: \n",
      "Kiwi (bird)\n",
      "Kiwi (nickname)\n",
      "Kiwifruit\n",
      "Kiwi dollar\n",
      "Kiwi (band)\n",
      "\"Kiwi\" (song)\n",
      "It Won't Be Soon Before Long\n",
      "KIWI\n",
      "Kiwi FM\n",
      "HMNZS Kiwi (T102)\n",
      "HMNZS Kiwi (P3554)\n",
      "Kiwi (horse)\n",
      "Kiwis (rugby league)\n",
      "Kiwi FC\n",
      "Kiwi Soccers\n",
      "Kiwi.com\n",
      "Kiwi International Air Lines\n",
      "Kiwi Regional Airlines\n",
      "Kiwi Travel International Airlines\n",
      "Wiscasset Airport\n",
      "IRC\n",
      ".kiwi\n",
      "KIWI (openSUSE)\n",
      "nuclear thermal rocket\n",
      "Kiwi Farms\n",
      "Kiwi!\n",
      "Kiwi (business)\n",
      "Kiwi (shoe polish)\n",
      "Kiwi (store)\n",
      "Kiwi River\n",
      "Code Lyoko\n",
      "Cyberpunk: Edgerunners\n",
      "Chowder\n",
      "Kiwi Camara\n",
      "Kiwi Gardner\n",
      "Kiwi Kingston\n",
      "Kiwi Searancke\n",
      "Bulford Kiwi\n",
      "HMNZS Kiwi\n",
      "Kiwikiwi\n",
      "Kivi (disambiguation)\n",
      "Kivy (disambiguation)\n",
      "All pages with titles beginning with kiwi\n",
      "Page id \"larry sanders\" does not match any pages. Try another id!\n",
      "\"Roman language\" may refer to: \n",
      "Latin\n",
      "Romaic\n",
      "Languages of the Roman Empire\n",
      "Romance languages\n",
      "Romanesco dialect\n",
      "Romang language\n",
      "Romani language\n",
      "Romanian language\n",
      "Romansh language\n",
      "Page id \"steve pruett\" does not match any pages. Try another id!\n",
      "Page id \"sue garner\" does not match any pages. Try another id!\n",
      "Page id \"wikiproject a\" does not match any pages. Try another id!\n"
     ]
    }
   ],
   "source": [
    "for link in page.links[:10]:\n",
    "    if not data.is_page_saved(link):\n",
    "        try:\n",
    "            data.save_wiki_page(wiki.page(link))\n",
    "        except Exception as e:\n",
    "            print(str(e))"
   ]
  },
  {
   "cell_type": "code",
   "execution_count": 8,
   "id": "c4b306b7-1fa9-4beb-9005-8a3c43962901",
   "metadata": {},
   "outputs": [
    {
     "name": "stdout",
     "output_type": "stream",
     "text": [
      "Acabou\n"
     ]
    }
   ],
   "source": [
    "print(\"Acabou\")"
   ]
  },
  {
   "cell_type": "markdown",
   "id": "1e2447a6-01ef-448e-ba65-8c06b1cdabf0",
   "metadata": {},
   "source": [
    "### NLP.save_wiki_linked_pages(page)"
   ]
  },
  {
   "cell_type": "code",
   "execution_count": 3,
   "id": "87cb0906-d03b-48d7-8b61-895bf241d670",
   "metadata": {},
   "outputs": [
    {
     "data": {
      "text/plain": [
       "['10 Downing Street', '1902 Campeonato Paulista', '1903 Campeonato Paulista']"
      ]
     },
     "execution_count": 3,
     "metadata": {},
     "output_type": "execute_result"
    }
   ],
   "source": [
    "page.links[:3]"
   ]
  },
  {
   "cell_type": "code",
   "execution_count": 4,
   "id": "00acca3d-334b-46b0-9196-46713b495723",
   "metadata": {},
   "outputs": [],
   "source": [
    "nlp.save_wiki_linked_pages(page, limit=3)"
   ]
  },
  {
   "cell_type": "markdown",
   "id": "4079de1f-7626-441e-9e88-bc4bcf945673",
   "metadata": {},
   "source": [
    "# Sandbox"
   ]
  },
  {
   "cell_type": "code",
   "execution_count": 12,
   "id": "364af579-2c36-4b68-8cb6-c143ef93e756",
   "metadata": {
    "scrolled": true
   },
   "outputs": [
    {
     "data": {
      "text/plain": [
       "['Bahia',\n",
       " 'Esporte Clube Bahia',\n",
       " 'Salvador',\n",
       " 'Juazeiro (Bahia)',\n",
       " 'Casas Bahia',\n",
       " 'Cachoeira (Bahia)',\n",
       " 'Valença (Bahia)',\n",
       " 'Lista de programas da Rede Bahia de Televisão',\n",
       " 'Confrontos entre Bahia e Fluminense no futebol',\n",
       " 'Esporte Clube Vitória',\n",
       " 'Lista de municípios da Bahia',\n",
       " 'Feira de Santana',\n",
       " 'Região Nordeste do Brasil',\n",
       " 'Universidade Federal da Bahia',\n",
       " 'Música da Bahia',\n",
       " 'Serrinha (Bahia)',\n",
       " 'Lista de governadores da Bahia',\n",
       " 'Ilhéus',\n",
       " 'Lista de municípios da Bahia por área',\n",
       " 'Lista de municípios da Bahia por PIB',\n",
       " 'Itaguaçu da Bahia',\n",
       " 'Antônio Carlos Magalhães',\n",
       " 'Lista de mesorregiões e microrregiões da Bahia',\n",
       " 'Independência da Bahia',\n",
       " 'Rodrigo Becão',\n",
       " 'Bandeira da Bahia',\n",
       " 'Campo Bahia',\n",
       " 'História do Esporte Clube Bahia',\n",
       " 'Lista de municípios da Bahia por população (2022)',\n",
       " 'Lista de municípios da Bahia por população (2021)',\n",
       " 'Grupo Casas Bahia',\n",
       " 'Associação Desportiva Bahia de Feira',\n",
       " 'Tribuna da Bahia',\n",
       " 'Cultura da Bahia',\n",
       " 'Estrada de Ferro Bahia e Minas',\n",
       " 'Caraíbas (Bahia)',\n",
       " 'Acarajé',\n",
       " 'Luís Eduardo Magalhães (Bahia)',\n",
       " 'Universidade do Estado da Bahia',\n",
       " 'Prado (Bahia)',\n",
       " 'Rui Costa (político)',\n",
       " 'TV Bahia',\n",
       " 'Jornada Internacional de Cinema da Bahia',\n",
       " 'Serra do Ramalho (Bahia)',\n",
       " 'Tucano (Bahia)',\n",
       " 'Futebol da Bahia',\n",
       " 'Sport Club Bahia',\n",
       " 'Bahía Honda',\n",
       " 'Universidade Federal do Recôncavo da Bahia',\n",
       " 'Luís Eduardo Magalhães',\n",
       " 'Lista de vice-governadores da Bahia',\n",
       " 'Bienal da Bahia',\n",
       " 'Jaques Wagner',\n",
       " 'Polícia Militar da Bahia',\n",
       " 'Bacia do rio São Francisco',\n",
       " 'Nordestina (Bahia)',\n",
       " 'Bahia Negra',\n",
       " 'Lista de prefeitos de Tucano (Bahia)',\n",
       " 'Auto Bahia Futebol Clube',\n",
       " 'Bahía Blanca',\n",
       " 'Lista de ferrovias da Bahia',\n",
       " 'Lista de emissoras de televisão da Bahia',\n",
       " 'Campeonato Baiano de Futebol',\n",
       " 'Imigração espanhola na Bahia',\n",
       " 'Cansanção (Bahia)',\n",
       " 'Festa da Independência da Bahia',\n",
       " 'Nazaré (Bahia)',\n",
       " 'Água Fria (Bahia)',\n",
       " 'Porto Seguro',\n",
       " 'Candeias (Bahia)',\n",
       " 'Trail Clube Bahia',\n",
       " 'Vereda (Bahia)',\n",
       " 'Zé Pretinho da Bahia',\n",
       " 'Lista de baías do Brasil',\n",
       " 'Senhor do Bonfim (Bahia)',\n",
       " 'Você Já Foi à Bahia?',\n",
       " 'Renato Paiva',\n",
       " 'Record Bahia',\n",
       " 'Litoral da Bahia',\n",
       " 'Chula (Bahia)',\n",
       " 'Correio (jornal)',\n",
       " 'Jequié',\n",
       " 'Samuel Klein',\n",
       " 'Conde (Bahia)',\n",
       " 'Sport Club Internacional (Bahia)',\n",
       " 'Santa Cruz Cabrália',\n",
       " 'Milagres (Bahia)',\n",
       " 'Campeonato Brasileiro de Futebol de 1959',\n",
       " 'Lauro de Freitas',\n",
       " 'Lista de lagoas da Bahia',\n",
       " 'Pitomba-da-bahia',\n",
       " 'Lista de aeroportos da Bahia',\n",
       " 'Torneio Pernambuco Bahia',\n",
       " 'Madre de Deus (Bahia)',\n",
       " 'Thaciano',\n",
       " 'Nordestino',\n",
       " 'Itajaí (Bahia)',\n",
       " 'Taça Estado da Bahia',\n",
       " 'Novo Horizonte (Bahia)',\n",
       " 'Cauly']"
      ]
     },
     "execution_count": 12,
     "metadata": {},
     "output_type": "execute_result"
    }
   ],
   "source": [
    "titles = wiki.search(\"Bahia\", results=100)\n",
    "titles"
   ]
  },
  {
   "cell_type": "code",
   "execution_count": null,
   "id": "09f51ba3-a4b6-4ad4-909e-d5df7f183ec3",
   "metadata": {},
   "outputs": [
    {
     "name": "stdout",
     "output_type": "stream",
     "text": [
      "Page id \"2015 na exploração espacial\" does not match any pages. Try another id!\n",
      "Page id \"2019 no carnaval\" does not match any pages. Try another id!\n",
      "Page id \"2015 no voleibol\" does not match any pages. Try another id!\n",
      "Page id \"ibne\" does not match any pages. Try another id!\n",
      "Page id \"internacional de milão\" does not match any pages. Try another id!\n",
      "Page id \"jogos sul americanos de 2019\" does not match any pages. Try another id!\n"
     ]
    }
   ],
   "source": [
    "for title in titles:\n",
    "    page = None\n",
    "    try:\n",
    "        page = wiki.page(title)\n",
    "        data.save_wiki_page(page)\n",
    "    except Exception as e:\n",
    "        print(str(e))\n",
    "    if page:\n",
    "        for link in page.links:\n",
    "            try:\n",
    "                nlp.save_wiki_linked_pages(wiki.page(link))\n",
    "            except Exception as e:\n",
    "                print(str(e))"
   ]
  },
  {
   "cell_type": "code",
   "execution_count": null,
   "id": "302a915f-fa79-4935-af12-cb8ef82c322c",
   "metadata": {},
   "outputs": [],
   "source": [
    "prin(\"Acabou\")"
   ]
  },
  {
   "cell_type": "code",
   "execution_count": null,
   "id": "b906e8b2-1b5f-47b7-a4e9-f6f249cca48d",
   "metadata": {},
   "outputs": [],
   "source": []
  },
  {
   "cell_type": "code",
   "execution_count": null,
   "id": "86a72082-8781-4bd6-98a7-3428289a2f51",
   "metadata": {},
   "outputs": [],
   "source": []
  }
 ],
 "metadata": {
  "kernelspec": {
   "display_name": "Python 3 (ipykernel)",
   "language": "python",
   "name": "python3"
  },
  "language_info": {
   "codemirror_mode": {
    "name": "ipython",
    "version": 3
   },
   "file_extension": ".py",
   "mimetype": "text/x-python",
   "name": "python",
   "nbconvert_exporter": "python",
   "pygments_lexer": "ipython3",
   "version": "3.10.12"
  }
 },
 "nbformat": 4,
 "nbformat_minor": 5
}
